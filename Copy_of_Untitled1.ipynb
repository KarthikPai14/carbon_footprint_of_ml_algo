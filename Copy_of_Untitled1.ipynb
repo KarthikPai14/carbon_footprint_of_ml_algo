{
  "nbformat": 4,
  "nbformat_minor": 0,
  "metadata": {
    "colab": {
      "provenance": []
    },
    "kernelspec": {
      "name": "python3",
      "display_name": "Python 3"
    },
    "language_info": {
      "name": "python"
    },
    "accelerator": "GPU",
    "gpuClass": "standard"
  },
  "cells": [
    {
      "cell_type": "code",
      "execution_count": null,
      "metadata": {
        "colab": {
          "base_uri": "https://localhost:8080/"
        },
        "id": "LOiKzugCnazW",
        "outputId": "a722bc72-394d-441c-a479-a238ae0534be"
      },
      "outputs": [
        {
          "output_type": "stream",
          "name": "stdout",
          "text": [
            "Python 3.8.15 (default, Oct 12 2022, 19:14:39) \n",
            "[GCC 7.5.0] on linux\n",
            "Type \"help\", \"copyright\", \"credits\" or \"license\" for more information.\n",
            ">>> "
          ]
        }
      ],
      "source": [
        "\n",
        "! python\n"
      ]
    },
    {
      "cell_type": "code",
      "source": [
        "!free -h --si | awk  '/Mem:/{print $2}'"
      ],
      "metadata": {
        "id": "2-H7Jejw7_H6"
      },
      "execution_count": null,
      "outputs": []
    },
    {
      "cell_type": "code",
      "source": [
        "!pip list -v"
      ],
      "metadata": {
        "id": "ElPhWAosJc2u",
        "colab": {
          "base_uri": "https://localhost:8080/"
        },
        "outputId": "a49d40b4-b511-4d6b-835a-4e72d1066d71"
      },
      "execution_count": null,
      "outputs": [
        {
          "output_type": "stream",
          "name": "stdout",
          "text": [
            "Package                       Version                Location                               Installer\n",
            "----------------------------- ---------------------- -------------------------------------- ---------\n",
            "absl-py                       1.3.0                  /usr/local/lib/python3.8/dist-packages pip\n",
            "aeppl                         0.0.33                 /usr/local/lib/python3.8/dist-packages pip\n",
            "aesara                        2.7.9                  /usr/local/lib/python3.8/dist-packages pip\n",
            "aiohttp                       3.8.3                  /usr/local/lib/python3.8/dist-packages pip\n",
            "aiosignal                     1.3.1                  /usr/local/lib/python3.8/dist-packages pip\n",
            "alabaster                     0.7.12                 /usr/local/lib/python3.8/dist-packages pip\n",
            "albumentations                1.2.1                  /usr/local/lib/python3.8/dist-packages pip\n",
            "altair                        4.2.0                  /usr/local/lib/python3.8/dist-packages pip\n",
            "appdirs                       1.4.4                  /usr/local/lib/python3.8/dist-packages pip\n",
            "arviz                         0.12.1                 /usr/local/lib/python3.8/dist-packages pip\n",
            "astor                         0.8.1                  /usr/local/lib/python3.8/dist-packages pip\n",
            "astropy                       4.3.1                  /usr/local/lib/python3.8/dist-packages pip\n",
            "astunparse                    1.6.3                  /usr/local/lib/python3.8/dist-packages pip\n",
            "async-timeout                 4.0.2                  /usr/local/lib/python3.8/dist-packages pip\n",
            "asynctest                     0.13.0                 /usr/local/lib/python3.8/dist-packages pip\n",
            "atari-py                      0.2.9                  /usr/local/lib/python3.8/dist-packages pip\n",
            "atomicwrites                  1.4.1                  /usr/local/lib/python3.8/dist-packages pip\n",
            "attrs                         22.1.0                 /usr/local/lib/python3.8/dist-packages pip\n",
            "audioread                     3.0.0                  /usr/local/lib/python3.8/dist-packages pip\n",
            "autograd                      1.5                    /usr/local/lib/python3.8/dist-packages pip\n",
            "Babel                         2.11.0                 /usr/local/lib/python3.8/dist-packages pip\n",
            "backcall                      0.2.0                  /usr/local/lib/python3.8/dist-packages pip\n",
            "beautifulsoup4                4.6.3                  /usr/local/lib/python3.8/dist-packages pip\n",
            "bleach                        5.0.1                  /usr/local/lib/python3.8/dist-packages pip\n",
            "blis                          0.7.9                  /usr/local/lib/python3.8/dist-packages pip\n",
            "bokeh                         2.3.3                  /usr/local/lib/python3.8/dist-packages pip\n",
            "branca                        0.6.0                  /usr/local/lib/python3.8/dist-packages pip\n",
            "bs4                           0.0.1                  /usr/local/lib/python3.8/dist-packages pip\n",
            "CacheControl                  0.12.11                /usr/local/lib/python3.8/dist-packages pip\n",
            "cached-property               1.5.2                  /usr/local/lib/python3.8/dist-packages pip\n",
            "cachetools                    5.2.0                  /usr/local/lib/python3.8/dist-packages pip\n",
            "catalogue                     2.0.8                  /usr/local/lib/python3.8/dist-packages pip\n",
            "certifi                       2022.9.24              /usr/local/lib/python3.8/dist-packages pip\n",
            "cffi                          1.15.1                 /usr/local/lib/python3.8/dist-packages pip\n",
            "cftime                        1.6.2                  /usr/local/lib/python3.8/dist-packages pip\n",
            "chardet                       3.0.4                  /usr/local/lib/python3.8/dist-packages pip\n",
            "charset-normalizer            2.1.1                  /usr/local/lib/python3.8/dist-packages pip\n",
            "click                         7.1.2                  /usr/local/lib/python3.8/dist-packages pip\n",
            "clikit                        0.6.2                  /usr/local/lib/python3.8/dist-packages pip\n",
            "cloudpickle                   1.5.0                  /usr/local/lib/python3.8/dist-packages pip\n",
            "cmake                         3.22.6                 /usr/local/lib/python3.8/dist-packages pip\n",
            "cmdstanpy                     1.0.8                  /usr/local/lib/python3.8/dist-packages pip\n",
            "colorcet                      3.0.1                  /usr/local/lib/python3.8/dist-packages pip\n",
            "colorlover                    0.3.0                  /usr/local/lib/python3.8/dist-packages pip\n",
            "community                     1.0.0b1                /usr/local/lib/python3.8/dist-packages pip\n",
            "confection                    0.0.3                  /usr/local/lib/python3.8/dist-packages pip\n",
            "cons                          0.4.5                  /usr/local/lib/python3.8/dist-packages pip\n",
            "contextlib2                   0.5.5                  /usr/local/lib/python3.8/dist-packages pip\n",
            "convertdate                   2.4.0                  /usr/local/lib/python3.8/dist-packages pip\n",
            "crashtest                     0.3.1                  /usr/local/lib/python3.8/dist-packages pip\n",
            "crcmod                        1.7                    /usr/local/lib/python3.8/dist-packages pip\n",
            "cufflinks                     0.17.3                 /usr/local/lib/python3.8/dist-packages pip\n",
            "cupy-cuda11x                  11.0.0                 /usr/local/lib/python3.8/dist-packages pip\n",
            "cvxopt                        1.3.0                  /usr/local/lib/python3.8/dist-packages pip\n",
            "cvxpy                         1.2.2                  /usr/local/lib/python3.8/dist-packages pip\n",
            "cycler                        0.11.0                 /usr/local/lib/python3.8/dist-packages pip\n",
            "cymem                         2.0.7                  /usr/local/lib/python3.8/dist-packages pip\n",
            "Cython                        0.29.32                /usr/local/lib/python3.8/dist-packages pip\n",
            "daft                          0.0.4                  /usr/local/lib/python3.8/dist-packages pip\n",
            "dask                          2022.2.0               /usr/local/lib/python3.8/dist-packages pip\n",
            "datascience                   0.17.5                 /usr/local/lib/python3.8/dist-packages pip\n",
            "db-dtypes                     1.0.4                  /usr/local/lib/python3.8/dist-packages pip\n",
            "debugpy                       1.0.0                  /usr/local/lib/python3.8/dist-packages pip\n",
            "decorator                     4.4.2                  /usr/local/lib/python3.8/dist-packages pip\n",
            "defusedxml                    0.7.1                  /usr/local/lib/python3.8/dist-packages pip\n",
            "descartes                     1.1.0                  /usr/local/lib/python3.8/dist-packages pip\n",
            "dill                          0.3.6                  /usr/local/lib/python3.8/dist-packages pip\n",
            "distributed                   2022.2.0               /usr/local/lib/python3.8/dist-packages pip\n",
            "dlib                          19.24.0                /usr/local/lib/python3.8/dist-packages pip\n",
            "dm-tree                       0.1.7                  /usr/local/lib/python3.8/dist-packages pip\n",
            "dnspython                     2.2.1                  /usr/local/lib/python3.8/dist-packages pip\n",
            "docutils                      0.17.1                 /usr/local/lib/python3.8/dist-packages pip\n",
            "dopamine-rl                   1.0.5                  /usr/local/lib/python3.8/dist-packages pip\n",
            "earthengine-api               0.1.332                /usr/local/lib/python3.8/dist-packages pip\n",
            "easydict                      1.10                   /usr/local/lib/python3.8/dist-packages pip\n",
            "ecos                          2.0.10                 /usr/local/lib/python3.8/dist-packages pip\n",
            "editdistance                  0.5.3                  /usr/local/lib/python3.8/dist-packages pip\n",
            "en-core-web-sm                3.4.1                  /usr/local/lib/python3.8/dist-packages pip\n",
            "entrypoints                   0.4                    /usr/local/lib/python3.8/dist-packages pip\n",
            "ephem                         4.1.3                  /usr/local/lib/python3.8/dist-packages pip\n",
            "et-xmlfile                    1.1.0                  /usr/local/lib/python3.8/dist-packages pip\n",
            "etils                         0.9.0                  /usr/local/lib/python3.8/dist-packages pip\n",
            "etuples                       0.3.8                  /usr/local/lib/python3.8/dist-packages pip\n",
            "fa2                           0.3.5                  /usr/local/lib/python3.8/dist-packages pip\n",
            "fastai                        2.7.10                 /usr/local/lib/python3.8/dist-packages pip\n",
            "fastcore                      1.5.27                 /usr/local/lib/python3.8/dist-packages pip\n",
            "fastdownload                  0.0.7                  /usr/local/lib/python3.8/dist-packages pip\n",
            "fastdtw                       0.3.4                  /usr/local/lib/python3.8/dist-packages pip\n",
            "fastjsonschema                2.16.2                 /usr/local/lib/python3.8/dist-packages pip\n",
            "fastprogress                  1.0.3                  /usr/local/lib/python3.8/dist-packages pip\n",
            "fastrlock                     0.8.1                  /usr/local/lib/python3.8/dist-packages pip\n",
            "feather-format                0.4.1                  /usr/local/lib/python3.8/dist-packages pip\n",
            "filelock                      3.8.0                  /usr/local/lib/python3.8/dist-packages pip\n",
            "firebase-admin                5.3.0                  /usr/local/lib/python3.8/dist-packages pip\n",
            "fix-yahoo-finance             0.0.22                 /usr/local/lib/python3.8/dist-packages pip\n",
            "Flask                         1.1.4                  /usr/local/lib/python3.8/dist-packages pip\n",
            "flatbuffers                   1.12                   /usr/local/lib/python3.8/dist-packages pip\n",
            "folium                        0.12.1.post1           /usr/local/lib/python3.8/dist-packages pip\n",
            "frozenlist                    1.3.3                  /usr/local/lib/python3.8/dist-packages pip\n",
            "fsspec                        2022.11.0              /usr/local/lib/python3.8/dist-packages pip\n",
            "future                        0.16.0                 /usr/local/lib/python3.8/dist-packages pip\n",
            "gast                          0.4.0                  /usr/local/lib/python3.8/dist-packages pip\n",
            "GDAL                          2.2.2                  /usr/local/lib/python3.8/dist-packages pip\n",
            "gdown                         4.4.0                  /usr/local/lib/python3.8/dist-packages pip\n",
            "gensim                        3.6.0                  /usr/local/lib/python3.8/dist-packages pip\n",
            "geographiclib                 1.52                   /usr/local/lib/python3.8/dist-packages pip\n",
            "geopy                         1.17.0                 /usr/local/lib/python3.8/dist-packages pip\n",
            "gin-config                    0.5.0                  /usr/local/lib/python3.8/dist-packages pip\n",
            "glob2                         0.7                    /usr/local/lib/python3.8/dist-packages pip\n",
            "google                        2.0.3                  /usr/local/lib/python3.8/dist-packages pip\n",
            "google-api-core               2.8.2                  /usr/local/lib/python3.8/dist-packages pip\n",
            "google-api-python-client      1.12.11                /usr/local/lib/python3.8/dist-packages pip\n",
            "google-auth                   2.14.1                 /usr/local/lib/python3.8/dist-packages pip\n",
            "google-auth-httplib2          0.0.4                  /usr/local/lib/python3.8/dist-packages pip\n",
            "google-auth-oauthlib          0.4.6                  /usr/local/lib/python3.8/dist-packages pip\n",
            "google-cloud-bigquery         3.3.6                  /usr/local/lib/python3.8/dist-packages pip\n",
            "google-cloud-bigquery-storage 2.16.2                 /usr/local/lib/python3.8/dist-packages pip\n",
            "google-cloud-core             2.3.2                  /usr/local/lib/python3.8/dist-packages pip\n",
            "google-cloud-datastore        2.9.0                  /usr/local/lib/python3.8/dist-packages pip\n",
            "google-cloud-firestore        2.7.2                  /usr/local/lib/python3.8/dist-packages pip\n",
            "google-cloud-language         2.6.1                  /usr/local/lib/python3.8/dist-packages pip\n",
            "google-cloud-storage          2.5.0                  /usr/local/lib/python3.8/dist-packages pip\n",
            "google-cloud-translate        3.8.4                  /usr/local/lib/python3.8/dist-packages pip\n",
            "google-colab                  1.0.0                  /usr/local/lib/python3.8/dist-packages pip\n",
            "google-crc32c                 1.5.0                  /usr/local/lib/python3.8/dist-packages pip\n",
            "google-pasta                  0.2.0                  /usr/local/lib/python3.8/dist-packages pip\n",
            "google-resumable-media        2.4.0                  /usr/local/lib/python3.8/dist-packages pip\n",
            "googleapis-common-protos      1.57.0                 /usr/local/lib/python3.8/dist-packages pip\n",
            "googledrivedownloader         0.4                    /usr/local/lib/python3.8/dist-packages pip\n",
            "graphviz                      0.10.1                 /usr/local/lib/python3.8/dist-packages pip\n",
            "greenlet                      2.0.1                  /usr/local/lib/python3.8/dist-packages pip\n",
            "grpcio                        1.50.0                 /usr/local/lib/python3.8/dist-packages pip\n",
            "grpcio-status                 1.48.2                 /usr/local/lib/python3.8/dist-packages pip\n",
            "gspread                       3.4.2                  /usr/local/lib/python3.8/dist-packages pip\n",
            "gspread-dataframe             3.0.8                  /usr/local/lib/python3.8/dist-packages pip\n",
            "gym                           0.25.2                 /usr/local/lib/python3.8/dist-packages pip\n",
            "gym-notices                   0.0.8                  /usr/local/lib/python3.8/dist-packages pip\n",
            "h5py                          3.1.0                  /usr/local/lib/python3.8/dist-packages pip\n",
            "HeapDict                      1.0.1                  /usr/local/lib/python3.8/dist-packages pip\n",
            "hijri-converter               2.2.4                  /usr/local/lib/python3.8/dist-packages pip\n",
            "holidays                      0.17                   /usr/local/lib/python3.8/dist-packages pip\n",
            "holoviews                     1.14.9                 /usr/local/lib/python3.8/dist-packages pip\n",
            "html5lib                      1.0.1                  /usr/local/lib/python3.8/dist-packages pip\n",
            "httpimport                    0.5.18                 /usr/local/lib/python3.8/dist-packages pip\n",
            "httplib2                      0.17.4                 /usr/local/lib/python3.8/dist-packages pip\n",
            "httpstan                      4.6.1                  /usr/local/lib/python3.8/dist-packages pip\n",
            "humanize                      0.5.1                  /usr/local/lib/python3.8/dist-packages pip\n",
            "hyperopt                      0.1.2                  /usr/local/lib/python3.8/dist-packages pip\n",
            "idna                          2.10                   /usr/local/lib/python3.8/dist-packages pip\n",
            "imageio                       2.9.0                  /usr/local/lib/python3.8/dist-packages pip\n",
            "imagesize                     1.4.1                  /usr/local/lib/python3.8/dist-packages pip\n",
            "imbalanced-learn              0.8.1                  /usr/local/lib/python3.8/dist-packages pip\n",
            "imblearn                      0.0                    /usr/local/lib/python3.8/dist-packages pip\n",
            "imgaug                        0.4.0                  /usr/local/lib/python3.8/dist-packages pip\n",
            "importlib-metadata            4.13.0                 /usr/local/lib/python3.8/dist-packages pip\n",
            "importlib-resources           5.10.0                 /usr/local/lib/python3.8/dist-packages pip\n",
            "imutils                       0.5.4                  /usr/local/lib/python3.8/dist-packages pip\n",
            "inflect                       2.1.0                  /usr/local/lib/python3.8/dist-packages pip\n",
            "intel-openmp                  2022.2.1               /usr/local/lib/python3.8/dist-packages pip\n",
            "intervaltree                  2.1.0                  /usr/local/lib/python3.8/dist-packages pip\n",
            "ipykernel                     5.3.4                  /usr/local/lib/python3.8/dist-packages pip\n",
            "ipython                       7.9.0                  /usr/local/lib/python3.8/dist-packages pip\n",
            "ipython-genutils              0.2.0                  /usr/local/lib/python3.8/dist-packages pip\n",
            "ipython-sql                   0.3.9                  /usr/local/lib/python3.8/dist-packages pip\n",
            "ipywidgets                    7.7.1                  /usr/local/lib/python3.8/dist-packages pip\n",
            "itsdangerous                  1.1.0                  /usr/local/lib/python3.8/dist-packages pip\n",
            "jax                           0.3.25                 /usr/local/lib/python3.8/dist-packages pip\n",
            "jaxlib                        0.3.25+cuda11.cudnn805 /usr/local/lib/python3.8/dist-packages pip\n",
            "jieba                         0.42.1                 /usr/local/lib/python3.8/dist-packages pip\n",
            "Jinja2                        2.11.3                 /usr/local/lib/python3.8/dist-packages pip\n",
            "joblib                        1.2.0                  /usr/local/lib/python3.8/dist-packages pip\n",
            "jpeg4py                       0.1.4                  /usr/local/lib/python3.8/dist-packages pip\n",
            "jsonschema                    4.3.3                  /usr/local/lib/python3.8/dist-packages pip\n",
            "jupyter-client                6.1.12                 /usr/local/lib/python3.8/dist-packages pip\n",
            "jupyter-console               6.1.0                  /usr/local/lib/python3.8/dist-packages pip\n",
            "jupyter-core                  4.11.2                 /usr/local/lib/python3.8/dist-packages pip\n",
            "jupyterlab-widgets            3.0.3                  /usr/local/lib/python3.8/dist-packages pip\n",
            "kaggle                        1.5.12                 /usr/local/lib/python3.8/dist-packages pip\n",
            "kapre                         0.3.7                  /usr/local/lib/python3.8/dist-packages pip\n",
            "keras                         2.9.0                  /usr/local/lib/python3.8/dist-packages pip\n",
            "Keras-Preprocessing           1.1.2                  /usr/local/lib/python3.8/dist-packages pip\n",
            "keras-vis                     0.4.1                  /usr/local/lib/python3.8/dist-packages pip\n",
            "kiwisolver                    1.4.4                  /usr/local/lib/python3.8/dist-packages pip\n",
            "korean-lunar-calendar         0.3.1                  /usr/local/lib/python3.8/dist-packages pip\n",
            "langcodes                     3.3.0                  /usr/local/lib/python3.8/dist-packages pip\n",
            "libclang                      14.0.6                 /usr/local/lib/python3.8/dist-packages pip\n",
            "librosa                       0.8.1                  /usr/local/lib/python3.8/dist-packages pip\n",
            "lightgbm                      2.2.3                  /usr/local/lib/python3.8/dist-packages pip\n",
            "llvmlite                      0.39.1                 /usr/local/lib/python3.8/dist-packages pip\n",
            "lmdb                          0.99                   /usr/local/lib/python3.8/dist-packages pip\n",
            "locket                        1.0.0                  /usr/local/lib/python3.8/dist-packages pip\n",
            "logical-unification           0.4.5                  /usr/local/lib/python3.8/dist-packages pip\n",
            "LunarCalendar                 0.0.9                  /usr/local/lib/python3.8/dist-packages pip\n",
            "lxml                          4.9.1                  /usr/local/lib/python3.8/dist-packages pip\n",
            "Markdown                      3.4.1                  /usr/local/lib/python3.8/dist-packages pip\n",
            "MarkupSafe                    2.0.1                  /usr/local/lib/python3.8/dist-packages pip\n",
            "marshmallow                   3.19.0                 /usr/local/lib/python3.8/dist-packages pip\n",
            "matplotlib                    3.2.2                  /usr/local/lib/python3.8/dist-packages pip\n",
            "matplotlib-venn               0.11.7                 /usr/local/lib/python3.8/dist-packages pip\n",
            "miniKanren                    1.0.3                  /usr/local/lib/python3.8/dist-packages pip\n",
            "missingno                     0.5.1                  /usr/local/lib/python3.8/dist-packages pip\n",
            "mistune                       0.8.4                  /usr/local/lib/python3.8/dist-packages pip\n",
            "mizani                        0.7.3                  /usr/local/lib/python3.8/dist-packages pip\n",
            "mkl                           2019.0                 /usr/local/lib/python3.8/dist-packages pip\n",
            "mlxtend                       0.14.0                 /usr/local/lib/python3.8/dist-packages pip\n",
            "more-itertools                9.0.0                  /usr/local/lib/python3.8/dist-packages pip\n",
            "moviepy                       0.2.3.5                /usr/local/lib/python3.8/dist-packages pip\n",
            "mpmath                        1.2.1                  /usr/local/lib/python3.8/dist-packages pip\n",
            "msgpack                       1.0.4                  /usr/local/lib/python3.8/dist-packages pip\n",
            "multidict                     6.0.2                  /usr/local/lib/python3.8/dist-packages pip\n",
            "multipledispatch              0.6.0                  /usr/local/lib/python3.8/dist-packages pip\n",
            "multitasking                  0.0.11                 /usr/local/lib/python3.8/dist-packages pip\n",
            "murmurhash                    1.0.9                  /usr/local/lib/python3.8/dist-packages pip\n",
            "music21                       5.5.0                  /usr/local/lib/python3.8/dist-packages pip\n",
            "natsort                       5.5.0                  /usr/local/lib/python3.8/dist-packages pip\n",
            "nbconvert                     5.6.1                  /usr/local/lib/python3.8/dist-packages pip\n",
            "nbformat                      5.7.0                  /usr/local/lib/python3.8/dist-packages pip\n",
            "netCDF4                       1.6.2                  /usr/local/lib/python3.8/dist-packages pip\n",
            "networkx                      2.6.3                  /usr/local/lib/python3.8/dist-packages pip\n",
            "nibabel                       3.0.2                  /usr/local/lib/python3.8/dist-packages pip\n",
            "nltk                          3.7                    /usr/local/lib/python3.8/dist-packages pip\n",
            "notebook                      5.7.16                 /usr/local/lib/python3.8/dist-packages pip\n",
            "numba                         0.56.4                 /usr/local/lib/python3.8/dist-packages pip\n",
            "numexpr                       2.8.4                  /usr/local/lib/python3.8/dist-packages pip\n",
            "numpy                         1.21.6                 /usr/local/lib/python3.8/dist-packages pip\n",
            "oauth2client                  4.1.3                  /usr/local/lib/python3.8/dist-packages pip\n",
            "oauthlib                      3.2.2                  /usr/local/lib/python3.8/dist-packages pip\n",
            "okgrade                       0.4.3                  /usr/local/lib/python3.8/dist-packages pip\n",
            "opencv-contrib-python         4.6.0.66               /usr/local/lib/python3.8/dist-packages pip\n",
            "opencv-python                 4.6.0.66               /usr/local/lib/python3.8/dist-packages pip\n",
            "opencv-python-headless        4.6.0.66               /usr/local/lib/python3.8/dist-packages pip\n",
            "openpyxl                      3.0.10                 /usr/local/lib/python3.8/dist-packages pip\n",
            "opt-einsum                    3.3.0                  /usr/local/lib/python3.8/dist-packages pip\n",
            "osqp                          0.6.2.post0            /usr/local/lib/python3.8/dist-packages pip\n",
            "packaging                     21.3                   /usr/local/lib/python3.8/dist-packages pip\n",
            "palettable                    3.3.0                  /usr/local/lib/python3.8/dist-packages pip\n",
            "pandas                        1.3.5                  /usr/local/lib/python3.8/dist-packages pip\n",
            "pandas-datareader             0.9.0                  /usr/local/lib/python3.8/dist-packages pip\n",
            "pandas-gbq                    0.17.9                 /usr/local/lib/python3.8/dist-packages pip\n",
            "pandas-profiling              1.4.1                  /usr/local/lib/python3.8/dist-packages pip\n",
            "pandocfilters                 1.5.0                  /usr/local/lib/python3.8/dist-packages pip\n",
            "panel                         0.12.1                 /usr/local/lib/python3.8/dist-packages pip\n",
            "param                         1.12.2                 /usr/local/lib/python3.8/dist-packages pip\n",
            "parso                         0.8.3                  /usr/local/lib/python3.8/dist-packages pip\n",
            "partd                         1.3.0                  /usr/local/lib/python3.8/dist-packages pip\n",
            "pastel                        0.2.1                  /usr/local/lib/python3.8/dist-packages pip\n",
            "pathlib                       1.0.1                  /usr/local/lib/python3.8/dist-packages pip\n",
            "pathy                         0.9.0                  /usr/local/lib/python3.8/dist-packages pip\n",
            "patsy                         0.5.3                  /usr/local/lib/python3.8/dist-packages pip\n",
            "pep517                        0.13.0                 /usr/local/lib/python3.8/dist-packages pip\n",
            "pexpect                       4.8.0                  /usr/local/lib/python3.8/dist-packages pip\n",
            "pickleshare                   0.7.5                  /usr/local/lib/python3.8/dist-packages pip\n",
            "Pillow                        7.1.2                  /usr/local/lib/python3.8/dist-packages pip\n",
            "pip                           21.1.3                 /usr/local/lib/python3.8/dist-packages pip\n",
            "pip-tools                     6.2.0                  /usr/local/lib/python3.8/dist-packages pip\n",
            "plotly                        5.5.0                  /usr/local/lib/python3.8/dist-packages pip\n",
            "plotnine                      0.8.0                  /usr/local/lib/python3.8/dist-packages pip\n",
            "pluggy                        0.7.1                  /usr/local/lib/python3.8/dist-packages pip\n",
            "pooch                         1.6.0                  /usr/local/lib/python3.8/dist-packages pip\n",
            "portpicker                    1.3.9                  /usr/local/lib/python3.8/dist-packages pip\n",
            "prefetch-generator            1.0.3                  /usr/local/lib/python3.8/dist-packages pip\n",
            "preshed                       3.0.8                  /usr/local/lib/python3.8/dist-packages pip\n",
            "prettytable                   3.5.0                  /usr/local/lib/python3.8/dist-packages pip\n",
            "progressbar2                  3.38.0                 /usr/local/lib/python3.8/dist-packages pip\n",
            "prometheus-client             0.15.0                 /usr/local/lib/python3.8/dist-packages pip\n",
            "promise                       2.3                    /usr/local/lib/python3.8/dist-packages pip\n",
            "prompt-toolkit                2.0.10                 /usr/local/lib/python3.8/dist-packages pip\n",
            "prophet                       1.1.1                  /usr/local/lib/python3.8/dist-packages pip\n",
            "proto-plus                    1.22.1                 /usr/local/lib/python3.8/dist-packages pip\n",
            "protobuf                      3.19.6                 /usr/local/lib/python3.8/dist-packages pip\n",
            "psutil                        5.4.8                  /usr/local/lib/python3.8/dist-packages pip\n",
            "psycopg2                      2.9.5                  /usr/local/lib/python3.8/dist-packages pip\n",
            "ptyprocess                    0.7.0                  /usr/local/lib/python3.8/dist-packages pip\n",
            "py                            1.11.0                 /usr/local/lib/python3.8/dist-packages pip\n",
            "pyarrow                       9.0.0                  /usr/local/lib/python3.8/dist-packages pip\n",
            "pyasn1                        0.4.8                  /usr/local/lib/python3.8/dist-packages pip\n",
            "pyasn1-modules                0.2.8                  /usr/local/lib/python3.8/dist-packages pip\n",
            "pycocotools                   2.0.6                  /usr/local/lib/python3.8/dist-packages pip\n",
            "pycparser                     2.21                   /usr/local/lib/python3.8/dist-packages pip\n",
            "pyct                          0.4.8                  /usr/local/lib/python3.8/dist-packages pip\n",
            "pydantic                      1.10.2                 /usr/local/lib/python3.8/dist-packages pip\n",
            "pydata-google-auth            1.4.0                  /usr/local/lib/python3.8/dist-packages pip\n",
            "pydot                         1.3.0                  /usr/local/lib/python3.8/dist-packages pip\n",
            "pydot-ng                      2.0.0                  /usr/local/lib/python3.8/dist-packages pip\n",
            "pydotplus                     2.0.2                  /usr/local/lib/python3.8/dist-packages pip\n",
            "PyDrive                       1.3.1                  /usr/local/lib/python3.8/dist-packages pip\n",
            "pyemd                         0.5.1                  /usr/local/lib/python3.8/dist-packages pip\n",
            "pyerfa                        2.0.0.1                /usr/local/lib/python3.8/dist-packages pip\n",
            "Pygments                      2.6.1                  /usr/local/lib/python3.8/dist-packages pip\n",
            "pygobject                     3.26.1                 /usr/lib/python3/dist-packages\n",
            "pylev                         1.4.0                  /usr/local/lib/python3.8/dist-packages pip\n",
            "pymc                          4.1.4                  /usr/local/lib/python3.8/dist-packages pip\n",
            "PyMeeus                       0.5.11                 /usr/local/lib/python3.8/dist-packages pip\n",
            "pymongo                       4.3.3                  /usr/local/lib/python3.8/dist-packages pip\n",
            "pymystem3                     0.2.0                  /usr/local/lib/python3.8/dist-packages pip\n",
            "PyOpenGL                      3.1.6                  /usr/local/lib/python3.8/dist-packages pip\n",
            "pyparsing                     3.0.9                  /usr/local/lib/python3.8/dist-packages pip\n",
            "pyrsistent                    0.19.2                 /usr/local/lib/python3.8/dist-packages pip\n",
            "pysimdjson                    3.2.0                  /usr/local/lib/python3.8/dist-packages pip\n",
            "pysndfile                     1.3.8                  /usr/local/lib/python3.8/dist-packages pip\n",
            "PySocks                       1.7.1                  /usr/local/lib/python3.8/dist-packages pip\n",
            "pystan                        3.3.0                  /usr/local/lib/python3.8/dist-packages pip\n",
            "pytest                        3.6.4                  /usr/local/lib/python3.8/dist-packages pip\n",
            "python-apt                    0.0.0                  /usr/local/lib/python3.8/dist-packages\n",
            "python-dateutil               2.8.2                  /usr/local/lib/python3.8/dist-packages pip\n",
            "python-louvain                0.16                   /usr/local/lib/python3.8/dist-packages pip\n",
            "python-slugify                7.0.0                  /usr/local/lib/python3.8/dist-packages pip\n",
            "python-utils                  3.4.5                  /usr/local/lib/python3.8/dist-packages pip\n",
            "pytz                          2022.6                 /usr/local/lib/python3.8/dist-packages pip\n",
            "pyviz-comms                   2.2.1                  /usr/local/lib/python3.8/dist-packages pip\n",
            "PyWavelets                    1.3.0                  /usr/local/lib/python3.8/dist-packages pip\n",
            "PyYAML                        6.0                    /usr/local/lib/python3.8/dist-packages pip\n",
            "pyzmq                         23.2.1                 /usr/local/lib/python3.8/dist-packages pip\n",
            "qdldl                         0.1.5.post2            /usr/local/lib/python3.8/dist-packages pip\n",
            "qudida                        0.0.4                  /usr/local/lib/python3.8/dist-packages pip\n",
            "regex                         2022.6.2               /usr/local/lib/python3.8/dist-packages pip\n",
            "requests                      2.23.0                 /usr/local/lib/python3.8/dist-packages pip\n",
            "requests-oauthlib             1.3.1                  /usr/local/lib/python3.8/dist-packages pip\n",
            "resampy                       0.4.2                  /usr/local/lib/python3.8/dist-packages pip\n",
            "rpy2                          3.5.5                  /usr/local/lib/python3.8/dist-packages pip\n",
            "rsa                           4.9                    /usr/local/lib/python3.8/dist-packages pip\n",
            "scikit-image                  0.18.3                 /usr/local/lib/python3.8/dist-packages pip\n",
            "scikit-learn                  1.0.2                  /usr/local/lib/python3.8/dist-packages pip\n",
            "scipy                         1.7.3                  /usr/local/lib/python3.8/dist-packages pip\n",
            "screen-resolution-extra       0.0.0                  /usr/lib/python3/dist-packages\n",
            "scs                           3.2.2                  /usr/local/lib/python3.8/dist-packages pip\n",
            "seaborn                       0.11.2                 /usr/local/lib/python3.8/dist-packages pip\n",
            "Send2Trash                    1.8.0                  /usr/local/lib/python3.8/dist-packages pip\n",
            "setuptools                    57.4.0                 /usr/local/lib/python3.8/dist-packages pip\n",
            "setuptools-git                1.2                    /usr/local/lib/python3.8/dist-packages pip\n",
            "Shapely                       1.8.5.post1            /usr/local/lib/python3.8/dist-packages pip\n",
            "six                           1.15.0                 /usr/local/lib/python3.8/dist-packages pip\n",
            "sklearn-pandas                1.8.0                  /usr/local/lib/python3.8/dist-packages pip\n",
            "smart-open                    5.2.1                  /usr/local/lib/python3.8/dist-packages pip\n",
            "snowballstemmer               2.2.0                  /usr/local/lib/python3.8/dist-packages pip\n",
            "sortedcontainers              2.4.0                  /usr/local/lib/python3.8/dist-packages pip\n",
            "soundfile                     0.11.0                 /usr/local/lib/python3.8/dist-packages pip\n",
            "spacy                         3.4.3                  /usr/local/lib/python3.8/dist-packages pip\n",
            "spacy-legacy                  3.0.10                 /usr/local/lib/python3.8/dist-packages pip\n",
            "spacy-loggers                 1.0.3                  /usr/local/lib/python3.8/dist-packages pip\n",
            "Sphinx                        1.8.6                  /usr/local/lib/python3.8/dist-packages pip\n",
            "sphinxcontrib-serializinghtml 1.1.5                  /usr/local/lib/python3.8/dist-packages pip\n",
            "sphinxcontrib-websupport      1.2.4                  /usr/local/lib/python3.8/dist-packages pip\n",
            "SQLAlchemy                    1.4.44                 /usr/local/lib/python3.8/dist-packages pip\n",
            "sqlparse                      0.4.3                  /usr/local/lib/python3.8/dist-packages pip\n",
            "srsly                         2.4.5                  /usr/local/lib/python3.8/dist-packages pip\n",
            "statsmodels                   0.12.2                 /usr/local/lib/python3.8/dist-packages pip\n",
            "sympy                         1.7.1                  /usr/local/lib/python3.8/dist-packages pip\n",
            "tables                        3.7.0                  /usr/local/lib/python3.8/dist-packages pip\n",
            "tabulate                      0.8.10                 /usr/local/lib/python3.8/dist-packages pip\n",
            "tblib                         1.7.0                  /usr/local/lib/python3.8/dist-packages pip\n",
            "tenacity                      8.1.0                  /usr/local/lib/python3.8/dist-packages pip\n",
            "tensorboard                   2.9.1                  /usr/local/lib/python3.8/dist-packages pip\n",
            "tensorboard-data-server       0.6.1                  /usr/local/lib/python3.8/dist-packages pip\n",
            "tensorboard-plugin-wit        1.8.1                  /usr/local/lib/python3.8/dist-packages pip\n",
            "tensorflow                    2.9.2                  /usr/local/lib/python3.8/dist-packages pip\n",
            "tensorflow-datasets           4.6.0                  /usr/local/lib/python3.8/dist-packages pip\n",
            "tensorflow-estimator          2.9.0                  /usr/local/lib/python3.8/dist-packages pip\n",
            "tensorflow-gcs-config         2.9.1                  /usr/local/lib/python3.8/dist-packages pip\n",
            "tensorflow-hub                0.12.0                 /usr/local/lib/python3.8/dist-packages pip\n",
            "tensorflow-io-gcs-filesystem  0.28.0                 /usr/local/lib/python3.8/dist-packages pip\n",
            "tensorflow-metadata           1.11.0                 /usr/local/lib/python3.8/dist-packages pip\n",
            "tensorflow-probability        0.17.0                 /usr/local/lib/python3.8/dist-packages pip\n",
            "termcolor                     2.1.1                  /usr/local/lib/python3.8/dist-packages pip\n",
            "terminado                     0.13.3                 /usr/local/lib/python3.8/dist-packages pip\n",
            "testpath                      0.6.0                  /usr/local/lib/python3.8/dist-packages pip\n",
            "text-unidecode                1.3                    /usr/local/lib/python3.8/dist-packages pip\n",
            "textblob                      0.15.3                 /usr/local/lib/python3.8/dist-packages pip\n",
            "thinc                         8.1.5                  /usr/local/lib/python3.8/dist-packages pip\n",
            "threadpoolctl                 3.1.0                  /usr/local/lib/python3.8/dist-packages pip\n",
            "tifffile                      2021.11.2              /usr/local/lib/python3.8/dist-packages pip\n",
            "toml                          0.10.2                 /usr/local/lib/python3.8/dist-packages pip\n",
            "tomli                         2.0.1                  /usr/local/lib/python3.8/dist-packages pip\n",
            "toolz                         0.12.0                 /usr/local/lib/python3.8/dist-packages pip\n",
            "torch                         1.12.1+cu113           /usr/local/lib/python3.8/dist-packages pip\n",
            "torchaudio                    0.12.1+cu113           /usr/local/lib/python3.8/dist-packages pip\n",
            "torchsummary                  1.5.1                  /usr/local/lib/python3.8/dist-packages pip\n",
            "torchtext                     0.13.1                 /usr/local/lib/python3.8/dist-packages pip\n",
            "torchvision                   0.13.1+cu113           /usr/local/lib/python3.8/dist-packages pip\n",
            "tornado                       6.0.4                  /usr/local/lib/python3.8/dist-packages pip\n",
            "tqdm                          4.64.1                 /usr/local/lib/python3.8/dist-packages pip\n",
            "traitlets                     5.1.1                  /usr/local/lib/python3.8/dist-packages pip\n",
            "tweepy                        3.10.0                 /usr/local/lib/python3.8/dist-packages pip\n",
            "typeguard                     2.7.1                  /usr/local/lib/python3.8/dist-packages pip\n",
            "typer                         0.7.0                  /usr/local/lib/python3.8/dist-packages pip\n",
            "typing-extensions             4.1.1                  /usr/local/lib/python3.8/dist-packages pip\n",
            "tzlocal                       1.5.1                  /usr/local/lib/python3.8/dist-packages pip\n",
            "uritemplate                   3.0.1                  /usr/local/lib/python3.8/dist-packages pip\n",
            "urllib3                       1.24.3                 /usr/local/lib/python3.8/dist-packages pip\n",
            "vega-datasets                 0.9.0                  /usr/local/lib/python3.8/dist-packages pip\n",
            "wasabi                        0.10.1                 /usr/local/lib/python3.8/dist-packages pip\n",
            "wcwidth                       0.2.5                  /usr/local/lib/python3.8/dist-packages pip\n",
            "webargs                       8.2.0                  /usr/local/lib/python3.8/dist-packages pip\n",
            "webencodings                  0.5.1                  /usr/local/lib/python3.8/dist-packages pip\n",
            "Werkzeug                      1.0.1                  /usr/local/lib/python3.8/dist-packages pip\n",
            "wheel                         0.38.4                 /usr/local/lib/python3.8/dist-packages pip\n",
            "widgetsnbextension            3.6.1                  /usr/local/lib/python3.8/dist-packages pip\n",
            "wordcloud                     1.8.2.2                /usr/local/lib/python3.8/dist-packages pip\n",
            "wrapt                         1.14.1                 /usr/local/lib/python3.8/dist-packages pip\n",
            "xarray                        0.20.2                 /usr/local/lib/python3.8/dist-packages pip\n",
            "xarray-einstats               0.2.2                  /usr/local/lib/python3.8/dist-packages pip\n",
            "xgboost                       0.90                   /usr/local/lib/python3.8/dist-packages pip\n",
            "xkit                          0.0.0                  /usr/lib/python3/dist-packages\n",
            "xlrd                          1.1.0                  /usr/local/lib/python3.8/dist-packages pip\n",
            "xlwt                          1.3.0                  /usr/local/lib/python3.8/dist-packages pip\n",
            "yarl                          1.8.1                  /usr/local/lib/python3.8/dist-packages pip\n",
            "yellowbrick                   1.5                    /usr/local/lib/python3.8/dist-packages pip\n",
            "zict                          2.2.0                  /usr/local/lib/python3.8/dist-packages pip\n",
            "zipp                          3.10.0                 /usr/local/lib/python3.8/dist-packages pip\n"
          ]
        }
      ]
    },
    {
      "cell_type": "code",
      "source": [],
      "metadata": {
        "id": "G621aTincAR2"
      },
      "execution_count": null,
      "outputs": []
    },
    {
      "cell_type": "code",
      "source": [
        "!lscpu |grep 'Model name'"
      ],
      "metadata": {
        "id": "rTyvif0qqWmw",
        "colab": {
          "base_uri": "https://localhost:8080/"
        },
        "outputId": "5bb0ac2a-3c46-4958-814f-cf0ec312074a"
      },
      "execution_count": null,
      "outputs": [
        {
          "output_type": "stream",
          "name": "stdout",
          "text": [
            "Model name:          Intel(R) Xeon(R) CPU @ 2.00GHz\n"
          ]
        }
      ]
    },
    {
      "cell_type": "code",
      "source": [
        "\n",
        "!/usr/local/cuda/bin/nvcc --version\n",
        "\n",
        "!nvidia-smi"
      ],
      "metadata": {
        "id": "X__UdUgxqlSn",
        "colab": {
          "base_uri": "https://localhost:8080/"
        },
        "outputId": "1037c7ac-c4d0-4535-d995-5d34d6fcbf90"
      },
      "execution_count": null,
      "outputs": [
        {
          "output_type": "stream",
          "name": "stdout",
          "text": [
            "nvcc: NVIDIA (R) Cuda compiler driver\n",
            "Copyright (c) 2005-2021 NVIDIA Corporation\n",
            "Built on Sun_Feb_14_21:12:58_PST_2021\n",
            "Cuda compilation tools, release 11.2, V11.2.152\n",
            "Build cuda_11.2.r11.2/compiler.29618528_0\n",
            "Wed Dec  7 13:10:27 2022       \n",
            "+-----------------------------------------------------------------------------+\n",
            "| NVIDIA-SMI 460.32.03    Driver Version: 460.32.03    CUDA Version: 11.2     |\n",
            "|-------------------------------+----------------------+----------------------+\n",
            "| GPU  Name        Persistence-M| Bus-Id        Disp.A | Volatile Uncorr. ECC |\n",
            "| Fan  Temp  Perf  Pwr:Usage/Cap|         Memory-Usage | GPU-Util  Compute M. |\n",
            "|                               |                      |               MIG M. |\n",
            "|===============================+======================+======================|\n",
            "|   0  Tesla T4            Off  | 00000000:00:04.0 Off |                    0 |\n",
            "| N/A   48C    P8    11W /  70W |      0MiB / 15109MiB |      0%      Default |\n",
            "|                               |                      |                  N/A |\n",
            "+-------------------------------+----------------------+----------------------+\n",
            "                                                                               \n",
            "+-----------------------------------------------------------------------------+\n",
            "| Processes:                                                                  |\n",
            "|  GPU   GI   CI        PID   Type   Process name                  GPU Memory |\n",
            "|        ID   ID                                                   Usage      |\n",
            "|=============================================================================|\n",
            "|  No running processes found                                                 |\n",
            "+-----------------------------------------------------------------------------+\n"
          ]
        }
      ]
    },
    {
      "cell_type": "code",
      "source": [],
      "metadata": {
        "id": "y8wAxMHDreXs"
      },
      "execution_count": null,
      "outputs": []
    },
    {
      "cell_type": "code",
      "source": [
        "import time\n",
        "start_time = time.time()\n",
        "end_time=time.time()-start_time\n",
        "\n",
        "print(end_time)"
      ],
      "metadata": {
        "id": "xts8W3YZe5Oy"
      },
      "execution_count": null,
      "outputs": []
    },
    {
      "cell_type": "code",
      "source": [
        "!pip install wandb -qU"
      ],
      "metadata": {
        "colab": {
          "base_uri": "https://localhost:8080/"
        },
        "id": "gz58uVd6iMfX",
        "outputId": "3dac0632-8532-476c-8982-44c25c142cf2"
      },
      "execution_count": null,
      "outputs": [
        {
          "output_type": "stream",
          "name": "stdout",
          "text": [
            "\u001b[K     |████████████████████████████████| 1.9 MB 30.6 MB/s \n",
            "\u001b[K     |████████████████████████████████| 168 kB 78.1 MB/s \n",
            "\u001b[K     |████████████████████████████████| 182 kB 61.3 MB/s \n",
            "\u001b[K     |████████████████████████████████| 62 kB 1.4 MB/s \n",
            "\u001b[K     |████████████████████████████████| 168 kB 78.6 MB/s \n",
            "\u001b[K     |████████████████████████████████| 166 kB 78.7 MB/s \n",
            "\u001b[K     |████████████████████████████████| 166 kB 80.0 MB/s \n",
            "\u001b[K     |████████████████████████████████| 162 kB 82.2 MB/s \n",
            "\u001b[K     |████████████████████████████████| 162 kB 81.8 MB/s \n",
            "\u001b[K     |████████████████████████████████| 158 kB 74.5 MB/s \n",
            "\u001b[K     |████████████████████████████████| 157 kB 79.4 MB/s \n",
            "\u001b[K     |████████████████████████████████| 157 kB 69.3 MB/s \n",
            "\u001b[K     |████████████████████████████████| 157 kB 67.2 MB/s \n",
            "\u001b[K     |████████████████████████████████| 157 kB 68.5 MB/s \n",
            "\u001b[K     |████████████████████████████████| 157 kB 77.2 MB/s \n",
            "\u001b[K     |████████████████████████████████| 157 kB 78.0 MB/s \n",
            "\u001b[K     |████████████████████████████████| 157 kB 77.2 MB/s \n",
            "\u001b[K     |████████████████████████████████| 156 kB 79.2 MB/s \n",
            "\u001b[?25h  Building wheel for pathtools (setup.py) ... \u001b[?25l\u001b[?25hdone\n"
          ]
        }
      ]
    },
    {
      "cell_type": "code",
      "source": [
        "import wandb\n",
        "wandb.login()"
      ],
      "metadata": {
        "colab": {
          "base_uri": "https://localhost:8080/",
          "height": 86
        },
        "id": "f8BKwX9GrkR0",
        "outputId": "52db856d-0b4a-4e9f-be63-f597f7e42ccc"
      },
      "execution_count": null,
      "outputs": [
        {
          "output_type": "stream",
          "name": "stderr",
          "text": [
            "ERROR:wandb.jupyter:Failed to detect the name of this notebook, you can set it manually with the WANDB_NOTEBOOK_NAME environment variable to enable code saving.\n"
          ]
        },
        {
          "output_type": "display_data",
          "data": {
            "text/plain": [
              "<IPython.core.display.Javascript object>"
            ],
            "application/javascript": [
              "\n",
              "        window._wandbApiKey = new Promise((resolve, reject) => {\n",
              "            function loadScript(url) {\n",
              "            return new Promise(function(resolve, reject) {\n",
              "                let newScript = document.createElement(\"script\");\n",
              "                newScript.onerror = reject;\n",
              "                newScript.onload = resolve;\n",
              "                document.body.appendChild(newScript);\n",
              "                newScript.src = url;\n",
              "            });\n",
              "            }\n",
              "            loadScript(\"https://cdn.jsdelivr.net/npm/postmate/build/postmate.min.js\").then(() => {\n",
              "            const iframe = document.createElement('iframe')\n",
              "            iframe.style.cssText = \"width:0;height:0;border:none\"\n",
              "            document.body.appendChild(iframe)\n",
              "            const handshake = new Postmate({\n",
              "                container: iframe,\n",
              "                url: 'https://wandb.ai/authorize'\n",
              "            });\n",
              "            const timeout = setTimeout(() => reject(\"Couldn't auto authenticate\"), 5000)\n",
              "            handshake.then(function(child) {\n",
              "                child.on('authorize', data => {\n",
              "                    clearTimeout(timeout)\n",
              "                    resolve(data)\n",
              "                });\n",
              "            });\n",
              "            })\n",
              "        });\n",
              "    "
            ]
          },
          "metadata": {}
        },
        {
          "output_type": "stream",
          "name": "stderr",
          "text": [
            "\u001b[34m\u001b[1mwandb\u001b[0m: Appending key for api.wandb.ai to your netrc file: /root/.netrc\n"
          ]
        },
        {
          "output_type": "execute_result",
          "data": {
            "text/plain": [
              "True"
            ]
          },
          "metadata": {},
          "execution_count": 3
        }
      ]
    },
    {
      "cell_type": "code",
      "source": [
        "import random\n",
        "import time\n",
        "start_time = time.time()\n",
        "# Launch 5 simulated experiments\n",
        "total_runs = 5\n",
        "for run in range(total_runs):\n",
        "  # 🐝 1️⃣ Start a new run to track this script\n",
        "  wandb.init(\n",
        "      # Set the project where this run will be logged\n",
        "      project=\"basic-intro\", \n",
        "      # We pass a run name (otherwise it’ll be randomly assigned, like sunshine-lollypop-10)\n",
        "      name=f\"experiment_{run}\", \n",
        "      # Track hyperparameters and run metadata\n",
        "      config={\n",
        "      \"learning_rate\": 0.02,\n",
        "      \"architecture\": \"CNN\",\n",
        "      \"dataset\": \"CIFAR-100\",\n",
        "      \"epochs\": 300,\n",
        "      })\n",
        "  \n",
        "  # This simple block simulates a training loop logging metrics\n",
        "  epochs = 300\n",
        "  offset = random.random() / 10\n",
        "  for epoch in range(2, epochs):\n",
        "      acc = 1 - 2 ** -epoch - random.random() / epoch - offset\n",
        "      loss = 2 ** -epoch + random.random() / epoch + offset\n",
        "      \n",
        "      # 🐝 2️⃣ Log metrics from your script to W&B\n",
        "      wandb.log({\"acc\": acc, \"loss\": loss})\n",
        "      \n",
        "  # Mark the run as finished\n",
        "  wandb.finish()\n",
        "\n",
        "end_time=time.time()-start_time\n",
        "\n",
        "print(end_time)"
      ],
      "metadata": {
        "colab": {
          "base_uri": "https://localhost:8080/",
          "height": 1000
        },
        "id": "BU1VapR_rxe-",
        "outputId": "be383f24-edcc-44dd-a912-655bd9f410ec"
      },
      "execution_count": null,
      "outputs": [
        {
          "output_type": "display_data",
          "data": {
            "text/plain": [
              "<IPython.core.display.HTML object>"
            ],
            "text/html": [
              "Tracking run with wandb version 0.13.6"
            ]
          },
          "metadata": {}
        },
        {
          "output_type": "display_data",
          "data": {
            "text/plain": [
              "<IPython.core.display.HTML object>"
            ],
            "text/html": [
              "Run data is saved locally in <code>/content/wandb/run-20221207_195231-2k6elzm8</code>"
            ]
          },
          "metadata": {}
        },
        {
          "output_type": "display_data",
          "data": {
            "text/plain": [
              "<IPython.core.display.HTML object>"
            ],
            "text/html": [
              "Syncing run <strong><a href=\"https://wandb.ai/workkarthik14/basic-intro/runs/2k6elzm8\" target=\"_blank\">experiment_0</a></strong> to <a href=\"https://wandb.ai/workkarthik14/basic-intro\" target=\"_blank\">Weights & Biases</a> (<a href=\"https://wandb.me/run\" target=\"_blank\">docs</a>)<br/>"
            ]
          },
          "metadata": {}
        },
        {
          "output_type": "display_data",
          "data": {
            "text/plain": [
              "<IPython.core.display.HTML object>"
            ],
            "text/html": [
              "Waiting for W&B process to finish... <strong style=\"color:green\">(success).</strong>"
            ]
          },
          "metadata": {}
        },
        {
          "output_type": "display_data",
          "data": {
            "text/plain": [
              "<IPython.core.display.HTML object>"
            ],
            "text/html": [
              "<style>\n",
              "    table.wandb td:nth-child(1) { padding: 0 10px; text-align: left ; width: auto;} td:nth-child(2) {text-align: left ; width: 100%}\n",
              "    .wandb-row { display: flex; flex-direction: row; flex-wrap: wrap; justify-content: flex-start; width: 100% }\n",
              "    .wandb-col { display: flex; flex-direction: column; flex-basis: 100%; flex: 1; padding: 10px; }\n",
              "    </style>\n",
              "<div class=\"wandb-row\"><div class=\"wandb-col\"><h3>Run history:</h3><br/><table class=\"wandb\"><tr><td>acc</td><td>▁▄▅▆▆▇▇▇███▇████████████████████████████</td></tr><tr><td>loss</td><td>██▃▁▁▂▁▂▂▁▂▁▁▁▁▁▂▁▂▂▁▁▁▁▁▁▁▁▁▁▁▁▁▁▁▁▁▁▁▁</td></tr></table><br/></div><div class=\"wandb-col\"><h3>Run summary:</h3><br/><table class=\"wandb\"><tr><td>acc</td><td>0.90719</td></tr><tr><td>loss</td><td>0.09121</td></tr></table><br/></div></div>"
            ]
          },
          "metadata": {}
        },
        {
          "output_type": "display_data",
          "data": {
            "text/plain": [
              "<IPython.core.display.HTML object>"
            ],
            "text/html": [
              "Synced <strong style=\"color:#cdcd00\">experiment_0</strong>: <a href=\"https://wandb.ai/workkarthik14/basic-intro/runs/2k6elzm8\" target=\"_blank\">https://wandb.ai/workkarthik14/basic-intro/runs/2k6elzm8</a><br/>Synced 4 W&B file(s), 0 media file(s), 0 artifact file(s) and 0 other file(s)"
            ]
          },
          "metadata": {}
        },
        {
          "output_type": "display_data",
          "data": {
            "text/plain": [
              "<IPython.core.display.HTML object>"
            ],
            "text/html": [
              "Find logs at: <code>./wandb/run-20221207_195231-2k6elzm8/logs</code>"
            ]
          },
          "metadata": {}
        },
        {
          "output_type": "display_data",
          "data": {
            "text/plain": [
              "<IPython.core.display.HTML object>"
            ],
            "text/html": [
              "Tracking run with wandb version 0.13.6"
            ]
          },
          "metadata": {}
        },
        {
          "output_type": "display_data",
          "data": {
            "text/plain": [
              "<IPython.core.display.HTML object>"
            ],
            "text/html": [
              "Run data is saved locally in <code>/content/wandb/run-20221207_195236-qj4cdkaq</code>"
            ]
          },
          "metadata": {}
        },
        {
          "output_type": "display_data",
          "data": {
            "text/plain": [
              "<IPython.core.display.HTML object>"
            ],
            "text/html": [
              "Syncing run <strong><a href=\"https://wandb.ai/workkarthik14/basic-intro/runs/qj4cdkaq\" target=\"_blank\">experiment_1</a></strong> to <a href=\"https://wandb.ai/workkarthik14/basic-intro\" target=\"_blank\">Weights & Biases</a> (<a href=\"https://wandb.me/run\" target=\"_blank\">docs</a>)<br/>"
            ]
          },
          "metadata": {}
        },
        {
          "output_type": "display_data",
          "data": {
            "text/plain": [
              "<IPython.core.display.HTML object>"
            ],
            "text/html": [
              "Waiting for W&B process to finish... <strong style=\"color:green\">(success).</strong>"
            ]
          },
          "metadata": {}
        },
        {
          "output_type": "display_data",
          "data": {
            "text/plain": [
              "<IPython.core.display.HTML object>"
            ],
            "text/html": [
              "<style>\n",
              "    table.wandb td:nth-child(1) { padding: 0 10px; text-align: left ; width: auto;} td:nth-child(2) {text-align: left ; width: 100%}\n",
              "    .wandb-row { display: flex; flex-direction: row; flex-wrap: wrap; justify-content: flex-start; width: 100% }\n",
              "    .wandb-col { display: flex; flex-direction: column; flex-basis: 100%; flex: 1; padding: 10px; }\n",
              "    </style>\n",
              "<div class=\"wandb-row\"><div class=\"wandb-col\"><h3>Run history:</h3><br/><table class=\"wandb\"><tr><td>acc</td><td>▁▅▆▇█▇▇█████████████████████████████████</td></tr><tr><td>loss</td><td>█▇▂▂▁▂▂▁▁▁▁▁▁▁▁▁▁▁▁▁▁▁▁▁▁▁▁▁▁▁▁▁▁▁▁▁▁▁▁▁</td></tr></table><br/></div><div class=\"wandb-col\"><h3>Run summary:</h3><br/><table class=\"wandb\"><tr><td>acc</td><td>0.97337</td></tr><tr><td>loss</td><td>0.02441</td></tr></table><br/></div></div>"
            ]
          },
          "metadata": {}
        },
        {
          "output_type": "display_data",
          "data": {
            "text/plain": [
              "<IPython.core.display.HTML object>"
            ],
            "text/html": [
              "Synced <strong style=\"color:#cdcd00\">experiment_1</strong>: <a href=\"https://wandb.ai/workkarthik14/basic-intro/runs/qj4cdkaq\" target=\"_blank\">https://wandb.ai/workkarthik14/basic-intro/runs/qj4cdkaq</a><br/>Synced 4 W&B file(s), 0 media file(s), 0 artifact file(s) and 0 other file(s)"
            ]
          },
          "metadata": {}
        },
        {
          "output_type": "display_data",
          "data": {
            "text/plain": [
              "<IPython.core.display.HTML object>"
            ],
            "text/html": [
              "Find logs at: <code>./wandb/run-20221207_195236-qj4cdkaq/logs</code>"
            ]
          },
          "metadata": {}
        },
        {
          "output_type": "display_data",
          "data": {
            "text/plain": [
              "<IPython.core.display.HTML object>"
            ],
            "text/html": [
              "Tracking run with wandb version 0.13.6"
            ]
          },
          "metadata": {}
        },
        {
          "output_type": "display_data",
          "data": {
            "text/plain": [
              "<IPython.core.display.HTML object>"
            ],
            "text/html": [
              "Run data is saved locally in <code>/content/wandb/run-20221207_195240-1qgf46qw</code>"
            ]
          },
          "metadata": {}
        },
        {
          "output_type": "display_data",
          "data": {
            "text/plain": [
              "<IPython.core.display.HTML object>"
            ],
            "text/html": [
              "Syncing run <strong><a href=\"https://wandb.ai/workkarthik14/basic-intro/runs/1qgf46qw\" target=\"_blank\">experiment_2</a></strong> to <a href=\"https://wandb.ai/workkarthik14/basic-intro\" target=\"_blank\">Weights & Biases</a> (<a href=\"https://wandb.me/run\" target=\"_blank\">docs</a>)<br/>"
            ]
          },
          "metadata": {}
        },
        {
          "output_type": "display_data",
          "data": {
            "text/plain": [
              "<IPython.core.display.HTML object>"
            ],
            "text/html": [
              "Waiting for W&B process to finish... <strong style=\"color:green\">(success).</strong>"
            ]
          },
          "metadata": {}
        },
        {
          "output_type": "display_data",
          "data": {
            "text/plain": [
              "<IPython.core.display.HTML object>"
            ],
            "text/html": [
              "<style>\n",
              "    table.wandb td:nth-child(1) { padding: 0 10px; text-align: left ; width: auto;} td:nth-child(2) {text-align: left ; width: 100%}\n",
              "    .wandb-row { display: flex; flex-direction: row; flex-wrap: wrap; justify-content: flex-start; width: 100% }\n",
              "    .wandb-col { display: flex; flex-direction: column; flex-basis: 100%; flex: 1; padding: 10px; }\n",
              "    </style>\n",
              "<div class=\"wandb-row\"><div class=\"wandb-col\"><h3>Run history:</h3><br/><table class=\"wandb\"><tr><td>acc</td><td>▁▁▁▃▅▅▇█▇▇▇█▇██▇▇▇▇▇▇█▇██▇████▇█████████</td></tr><tr><td>loss</td><td>█▄▃▃▂▂▁▁▁▁▁▁▁▁▁▁▁▁▁▁▁▁▁▁▁▁▁▁▁▁▁▁▁▁▁▁▁▁▁▁</td></tr></table><br/></div><div class=\"wandb-col\"><h3>Run summary:</h3><br/><table class=\"wandb\"><tr><td>acc</td><td>0.91026</td></tr><tr><td>loss</td><td>0.09193</td></tr></table><br/></div></div>"
            ]
          },
          "metadata": {}
        },
        {
          "output_type": "display_data",
          "data": {
            "text/plain": [
              "<IPython.core.display.HTML object>"
            ],
            "text/html": [
              "Synced <strong style=\"color:#cdcd00\">experiment_2</strong>: <a href=\"https://wandb.ai/workkarthik14/basic-intro/runs/1qgf46qw\" target=\"_blank\">https://wandb.ai/workkarthik14/basic-intro/runs/1qgf46qw</a><br/>Synced 4 W&B file(s), 0 media file(s), 0 artifact file(s) and 0 other file(s)"
            ]
          },
          "metadata": {}
        },
        {
          "output_type": "display_data",
          "data": {
            "text/plain": [
              "<IPython.core.display.HTML object>"
            ],
            "text/html": [
              "Find logs at: <code>./wandb/run-20221207_195240-1qgf46qw/logs</code>"
            ]
          },
          "metadata": {}
        },
        {
          "output_type": "display_data",
          "data": {
            "text/plain": [
              "<IPython.core.display.HTML object>"
            ],
            "text/html": [
              "Tracking run with wandb version 0.13.6"
            ]
          },
          "metadata": {}
        },
        {
          "output_type": "display_data",
          "data": {
            "text/plain": [
              "<IPython.core.display.HTML object>"
            ],
            "text/html": [
              "Run data is saved locally in <code>/content/wandb/run-20221207_195245-29ve00bu</code>"
            ]
          },
          "metadata": {}
        },
        {
          "output_type": "display_data",
          "data": {
            "text/plain": [
              "<IPython.core.display.HTML object>"
            ],
            "text/html": [
              "Syncing run <strong><a href=\"https://wandb.ai/workkarthik14/basic-intro/runs/29ve00bu\" target=\"_blank\">experiment_3</a></strong> to <a href=\"https://wandb.ai/workkarthik14/basic-intro\" target=\"_blank\">Weights & Biases</a> (<a href=\"https://wandb.me/run\" target=\"_blank\">docs</a>)<br/>"
            ]
          },
          "metadata": {}
        },
        {
          "output_type": "display_data",
          "data": {
            "text/plain": [
              "<IPython.core.display.HTML object>"
            ],
            "text/html": [
              "Waiting for W&B process to finish... <strong style=\"color:green\">(success).</strong>"
            ]
          },
          "metadata": {}
        },
        {
          "output_type": "display_data",
          "data": {
            "text/plain": [
              "<IPython.core.display.HTML object>"
            ],
            "text/html": [
              "<style>\n",
              "    table.wandb td:nth-child(1) { padding: 0 10px; text-align: left ; width: auto;} td:nth-child(2) {text-align: left ; width: 100%}\n",
              "    .wandb-row { display: flex; flex-direction: row; flex-wrap: wrap; justify-content: flex-start; width: 100% }\n",
              "    .wandb-col { display: flex; flex-direction: column; flex-basis: 100%; flex: 1; padding: 10px; }\n",
              "    </style>\n",
              "<div class=\"wandb-row\"><div class=\"wandb-col\"><h3>Run history:</h3><br/><table class=\"wandb\"><tr><td>acc</td><td>▁▄▄▇▇█████▇██▇██████████████████████████</td></tr><tr><td>loss</td><td>██▄▂▁▂▁▂▁▂▂▁▁▁▂▁▁▁▁▁▁▁▁▁▁▁▁▁▁▁▁▁▁▁▁▁▁▁▁▁</td></tr></table><br/></div><div class=\"wandb-col\"><h3>Run summary:</h3><br/><table class=\"wandb\"><tr><td>acc</td><td>0.93803</td></tr><tr><td>loss</td><td>0.06164</td></tr></table><br/></div></div>"
            ]
          },
          "metadata": {}
        },
        {
          "output_type": "display_data",
          "data": {
            "text/plain": [
              "<IPython.core.display.HTML object>"
            ],
            "text/html": [
              "Synced <strong style=\"color:#cdcd00\">experiment_3</strong>: <a href=\"https://wandb.ai/workkarthik14/basic-intro/runs/29ve00bu\" target=\"_blank\">https://wandb.ai/workkarthik14/basic-intro/runs/29ve00bu</a><br/>Synced 4 W&B file(s), 0 media file(s), 0 artifact file(s) and 0 other file(s)"
            ]
          },
          "metadata": {}
        },
        {
          "output_type": "display_data",
          "data": {
            "text/plain": [
              "<IPython.core.display.HTML object>"
            ],
            "text/html": [
              "Find logs at: <code>./wandb/run-20221207_195245-29ve00bu/logs</code>"
            ]
          },
          "metadata": {}
        },
        {
          "output_type": "display_data",
          "data": {
            "text/plain": [
              "<IPython.core.display.HTML object>"
            ],
            "text/html": [
              "Tracking run with wandb version 0.13.6"
            ]
          },
          "metadata": {}
        },
        {
          "output_type": "display_data",
          "data": {
            "text/plain": [
              "<IPython.core.display.HTML object>"
            ],
            "text/html": [
              "Run data is saved locally in <code>/content/wandb/run-20221207_195250-246yi2qu</code>"
            ]
          },
          "metadata": {}
        },
        {
          "output_type": "display_data",
          "data": {
            "text/plain": [
              "<IPython.core.display.HTML object>"
            ],
            "text/html": [
              "Syncing run <strong><a href=\"https://wandb.ai/workkarthik14/basic-intro/runs/246yi2qu\" target=\"_blank\">experiment_4</a></strong> to <a href=\"https://wandb.ai/workkarthik14/basic-intro\" target=\"_blank\">Weights & Biases</a> (<a href=\"https://wandb.me/run\" target=\"_blank\">docs</a>)<br/>"
            ]
          },
          "metadata": {}
        },
        {
          "output_type": "display_data",
          "data": {
            "text/plain": [
              "<IPython.core.display.HTML object>"
            ],
            "text/html": [
              "Waiting for W&B process to finish... <strong style=\"color:green\">(success).</strong>"
            ]
          },
          "metadata": {}
        },
        {
          "output_type": "display_data",
          "data": {
            "text/plain": [
              "<IPython.core.display.HTML object>"
            ],
            "text/html": [
              "<style>\n",
              "    table.wandb td:nth-child(1) { padding: 0 10px; text-align: left ; width: auto;} td:nth-child(2) {text-align: left ; width: 100%}\n",
              "    .wandb-row { display: flex; flex-direction: row; flex-wrap: wrap; justify-content: flex-start; width: 100% }\n",
              "    .wandb-col { display: flex; flex-direction: column; flex-basis: 100%; flex: 1; padding: 10px; }\n",
              "    </style>\n",
              "<div class=\"wandb-row\"><div class=\"wandb-col\"><h3>Run history:</h3><br/><table class=\"wandb\"><tr><td>acc</td><td>▂▁▄▆▆█▇████▇██▇█▇███████████████████████</td></tr><tr><td>loss</td><td>█▁▂▃▃▂▂▃▂▂▁▂▂▂▂▁▂▁▁▁▂▁▂▁▁▁▂▁▁▁▁▁▁▁▁▁▁▁▁▁</td></tr></table><br/></div><div class=\"wandb-col\"><h3>Run summary:</h3><br/><table class=\"wandb\"><tr><td>acc</td><td>0.91581</td></tr><tr><td>loss</td><td>0.08606</td></tr></table><br/></div></div>"
            ]
          },
          "metadata": {}
        },
        {
          "output_type": "display_data",
          "data": {
            "text/plain": [
              "<IPython.core.display.HTML object>"
            ],
            "text/html": [
              "Synced <strong style=\"color:#cdcd00\">experiment_4</strong>: <a href=\"https://wandb.ai/workkarthik14/basic-intro/runs/246yi2qu\" target=\"_blank\">https://wandb.ai/workkarthik14/basic-intro/runs/246yi2qu</a><br/>Synced 4 W&B file(s), 0 media file(s), 0 artifact file(s) and 0 other file(s)"
            ]
          },
          "metadata": {}
        },
        {
          "output_type": "display_data",
          "data": {
            "text/plain": [
              "<IPython.core.display.HTML object>"
            ],
            "text/html": [
              "Find logs at: <code>./wandb/run-20221207_195250-246yi2qu/logs</code>"
            ]
          },
          "metadata": {}
        },
        {
          "output_type": "stream",
          "name": "stdout",
          "text": [
            "23.75265336036682\n"
          ]
        }
      ]
    },
    {
      "cell_type": "code",
      "source": [
        "!curl ipinfo.io"
      ],
      "metadata": {
        "colab": {
          "base_uri": "https://localhost:8080/"
        },
        "id": "Bv3kPaSsfruz",
        "outputId": "a16c49af-c22e-4af5-e43a-51d461dd9c64"
      },
      "execution_count": null,
      "outputs": [
        {
          "output_type": "stream",
          "name": "stdout",
          "text": [
            "{\n",
            "  \"ip\": \"34.87.92.186\",\n",
            "  \"hostname\": \"186.92.87.34.bc.googleusercontent.com\",\n",
            "  \"city\": \"Singapore\",\n",
            "  \"region\": \"Singapore\",\n",
            "  \"country\": \"SG\",\n",
            "  \"loc\": \"1.2897,103.8501\",\n",
            "  \"org\": \"AS396982 Google LLC\",\n",
            "  \"postal\": \"018989\",\n",
            "  \"timezone\": \"Asia/Singapore\",\n",
            "  \"readme\": \"https://ipinfo.io/missingauth\"\n",
            "}"
          ]
        }
      ]
    },
    {
      "cell_type": "code",
      "source": [
        "gpu_util=float(input(\"Enter average Gpu utilization in percentage\"))\n",
        "p=float(input(\"Enter max power of GPU in W\"))\n",
        "time= float(input(\"Enter time consumed in s\"))\n",
        "ci= float(input(\"Enter carbon intensity in g/KWh\"))\n",
        "\n",
        "p=(p*gpu_util)/100\n",
        "t=time/3600\n",
        "carbon=((p*t)/1000)*ci\n",
        "\n",
        "print(\"Carbon released \",carbon)"
      ],
      "metadata": {
        "colab": {
          "base_uri": "https://localhost:8080/"
        },
        "id": "Ysm0j42YcB8W",
        "outputId": "c6802e93-33d6-4642-ae5f-bc6edd05c79b"
      },
      "execution_count": 6,
      "outputs": [
        {
          "output_type": "stream",
          "name": "stdout",
          "text": [
            "Enter average Gpu utilization in percentage35\n",
            "Enter max power of GPU in W70\n",
            "Enter time consumed in s23\n",
            "Enter carbon intensity in g/KWh488\n",
            "Carbon released  0.07638555555555555\n"
          ]
        }
      ]
    },
    {
      "cell_type": "code",
      "source": [],
      "metadata": {
        "colab": {
          "base_uri": "https://localhost:8080/"
        },
        "id": "u9NnEw34enDv",
        "outputId": "40dbb1a0-7ab7-40f6-a24f-21159ea4cb2d"
      },
      "execution_count": 9,
      "outputs": [
        {
          "output_type": "stream",
          "name": "stdout",
          "text": [
            "fatal: not a git repository (or any of the parent directories): .git\n",
            "fatal: not a git repository (or any of the parent directories): .git\n",
            "fatal: not a git repository (or any of the parent directories): .git\n"
          ]
        }
      ]
    }
  ]
}